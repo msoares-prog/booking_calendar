{
 "cells": [
  {
   "cell_type": "code",
   "execution_count": 43,
   "id": "c7686d54",
   "metadata": {},
   "outputs": [],
   "source": [
    "import psycopg2\n",
    "import pandas as pd\n",
    "import datetime"
   ]
  },
  {
   "cell_type": "code",
   "execution_count": 44,
   "id": "ba2fa301",
   "metadata": {},
   "outputs": [],
   "source": [
    "# SET UP"
   ]
  },
  {
   "cell_type": "code",
   "execution_count": 71,
   "id": "8eb09c8f",
   "metadata": {},
   "outputs": [],
   "source": [
    "con = psycopg2.connect(database=\"postgres\", user=\"postgres\", password=\"soaresmariana\", host=\"127.0.0.1\", port=\"5432\")\n",
    "cur = con.cursor()"
   ]
  },
  {
   "cell_type": "code",
   "execution_count": 4,
   "id": "1e63b14a",
   "metadata": {},
   "outputs": [],
   "source": [
    "df_booking = pd.read_csv('bookings.csv', sep=',')\n",
    "df_maintenance = pd.read_csv('maintenance.csv', sep=',')"
   ]
  },
  {
   "cell_type": "code",
   "execution_count": null,
   "id": "f4afaede",
   "metadata": {},
   "outputs": [],
   "source": [
    "# CREATE TABLES"
   ]
  },
  {
   "cell_type": "code",
   "execution_count": null,
   "id": "fcf54f0b",
   "metadata": {},
   "outputs": [],
   "source": [
    "query = '''\n",
    "        CREATE TABLE IF NOT EXISTS maintenance (\n",
    "            id_maintenance int,\n",
    "            id_apart int,\n",
    "            start_date DATE,\n",
    "            end_date DATE\n",
    "            )\n",
    "        '''\n",
    "cur.execute(query)"
   ]
  },
  {
   "cell_type": "code",
   "execution_count": null,
   "id": "9b76d288",
   "metadata": {},
   "outputs": [],
   "source": [
    "query = '''\n",
    "        CREATE TABLE IF NOT EXISTS bookings (\n",
    "            id_apart int,\n",
    "            check_in DATE,\n",
    "            check_out DATE,\n",
    "            id_tenant SERIAL,\n",
    "            tenant_name VARCHAR(255),\n",
    "            email VARCHAR(255)\n",
    "            )\n",
    "        '''\n",
    "cur.execute(query)"
   ]
  },
  {
   "cell_type": "code",
   "execution_count": null,
   "id": "c5ad9089",
   "metadata": {},
   "outputs": [],
   "source": [
    "query = '''\n",
    "        CREATE TABLE IF NOT EXISTS calendar (\n",
    "            dates Date,\n",
    "            free_aparts int\n",
    "            )\n",
    "        '''\n",
    "cur.execute(query)"
   ]
  },
  {
   "cell_type": "code",
   "execution_count": null,
   "id": "3a090e8d",
   "metadata": {},
   "outputs": [],
   "source": [
    "con.commit()"
   ]
  },
  {
   "cell_type": "code",
   "execution_count": null,
   "id": "4f5247a5",
   "metadata": {},
   "outputs": [],
   "source": [
    "# PREPARE AND LOAD DATA"
   ]
  },
  {
   "cell_type": "code",
   "execution_count": null,
   "id": "1eed2a60",
   "metadata": {},
   "outputs": [],
   "source": [
    "## MAINTENANCE"
   ]
  },
  {
   "cell_type": "code",
   "execution_count": 13,
   "id": "2ded30f2",
   "metadata": {},
   "outputs": [],
   "source": [
    "# df_maintenance['Start Date'] = pd.to_datetime(df_maintenance['Start Date']).dt.strftime(\"%m/%d/%Y\")\n",
    "# df_maintenance['End Date'] = pd.to_datetime(df_maintenance['End Date']).dt.strftime(\"%m/%d/%Y\")\n",
    "# cols = ','.join(list(df_maintenance.columns))\n",
    "# values = list(map(tuple, df_maintenance.values))"
   ]
  },
  {
   "cell_type": "code",
   "execution_count": 9,
   "id": "bb32e0b6",
   "metadata": {},
   "outputs": [],
   "source": [
    "## BOOKING"
   ]
  },
  {
   "cell_type": "code",
   "execution_count": 17,
   "id": "3f44b95e",
   "metadata": {},
   "outputs": [],
   "source": [
    "df_booking['Check-In'] = pd.to_datetime(df_booking['Check-In']).dt.strftime(\"%m/%d/%Y\")\n",
    "df_booking['Check-Out'] = pd.to_datetime(df_booking['Check-Out']).dt.strftime(\"%m/%d/%Y\")\n",
    "cols = ','.join(list(df_booking.columns))\n",
    "values = list(map(tuple, df_booking.values))"
   ]
  },
  {
   "cell_type": "code",
   "execution_count": 11,
   "id": "e6a13e47",
   "metadata": {},
   "outputs": [],
   "source": [
    "## LOAD TABLES"
   ]
  },
  {
   "cell_type": "code",
   "execution_count": 18,
   "id": "3ff7690a",
   "metadata": {},
   "outputs": [],
   "source": [
    "values_bytes = b','.join(cur.mogrify(\"%s\", (x, )) for x in values)\n",
    "# query = b\"INSERT INTO maintenance VALUES \" + values_bytes\n",
    "query = b\"INSERT INTO bookings VALUES \" + values_bytes\n",
    "cur.execute(query)\n",
    "con.commit()"
   ]
  },
  {
   "cell_type": "code",
   "execution_count": null,
   "id": "181649c8",
   "metadata": {},
   "outputs": [],
   "source": [
    "## TEMP_CALENDAR - BUSY APARTS"
   ]
  },
  {
   "cell_type": "code",
   "execution_count": 19,
   "id": "3d1f74fc",
   "metadata": {},
   "outputs": [],
   "source": [
    "query = '''\n",
    "        CREATE TEMP TABLE temp_calendar (\n",
    "            dates Date,\n",
    "            id_apart int,\n",
    "            type VARCHAR(255)\n",
    "            )\n",
    "            ON COMMIT DROP\n",
    "        '''\n",
    "cur.execute(query)"
   ]
  },
  {
   "cell_type": "code",
   "execution_count": null,
   "id": "eec21819",
   "metadata": {},
   "outputs": [],
   "source": [
    "dates = pd.date_range(start='12/23/2020', end=datetime.datetime.strptime('09/02/2022', \"%m/%d/%Y\"), freq='D')"
   ]
  },
  {
   "cell_type": "code",
   "execution_count": 27,
   "id": "473c3013",
   "metadata": {},
   "outputs": [],
   "source": [
    "values = []\n",
    "for date in dates:\n",
    "    for b in df_booking.index:\n",
    "        if (date >= datetime.datetime.strptime(df_booking['Check-In'][b], \"%m/%d/%Y\") and date <= datetime.datetime.strptime(df_booking['Check-Out'][b], \"%m/%d/%Y\")):\n",
    "                values.extend([date.strftime('%m/%d/%Y'), df_booking['ID Apart'][b], 'Booking'])"
   ]
  },
  {
   "cell_type": "code",
   "execution_count": 29,
   "id": "c5a1bcf5",
   "metadata": {},
   "outputs": [],
   "source": [
    "for date in dates:\n",
    "    for m in df_maintenance.index:\n",
    "        if (date >= datetime.datetime.strptime(df_maintenance['Start Date'][m], \"%m/%d/%Y\") and date <= datetime.datetime.strptime(df_maintenance['End Date'][m], \"%m/%d/%Y\")):\n",
    "                values.extend([date.strftime('%m/%d/%Y'), df_maintenance['ID Apart'][m], 'Maintenance'])"
   ]
  },
  {
   "cell_type": "code",
   "execution_count": 32,
   "id": "deac75fb",
   "metadata": {},
   "outputs": [],
   "source": [
    "values_list = [values[i:i+3] for i in range(0, len(values), 3)]\n",
    "fvalues = tuple(tuple(x) for x in values_list)"
   ]
  },
  {
   "cell_type": "code",
   "execution_count": null,
   "id": "f781dd2b",
   "metadata": {},
   "outputs": [],
   "source": [
    "## LOAD TEMP_CALENDAR"
   ]
  },
  {
   "cell_type": "code",
   "execution_count": 33,
   "id": "0c1c70f0",
   "metadata": {},
   "outputs": [],
   "source": [
    "for f in fvalues:\n",
    "    query = f\"INSERT INTO temp_calendar VALUES {f}\"\n",
    "    cur.execute(query)"
   ]
  },
  {
   "cell_type": "code",
   "execution_count": null,
   "id": "04ce025f",
   "metadata": {},
   "outputs": [],
   "source": [
    "# MAIN PROGRAM"
   ]
  },
  {
   "cell_type": "code",
   "execution_count": 34,
   "id": "b5bd4280",
   "metadata": {},
   "outputs": [],
   "source": [
    "df_aparts = pd.DataFrame({'id_aparts': df_booking['ID Apart'], 'type': 'Bookings'})\n",
    "df_aparts2 = pd.DataFrame({'id_aparts': df_maintenance['ID Apart'], 'type': 'Maintanence'})\n",
    "df_aparts=df_aparts.append(df_aparts2) \n",
    "total_aparts = int(len(df_aparts['id_aparts'].unique()))"
   ]
  },
  {
   "cell_type": "code",
   "execution_count": null,
   "id": "2496bfbd",
   "metadata": {},
   "outputs": [],
   "source": [
    "query = ''' \n",
    "        select dates, COUNT(id_apart) \n",
    "        from temp_calendar tc \n",
    "        group by dates \n",
    "        order by dates;\n",
    "        '''\n",
    "cur.execute(query)\n",
    "df_calendar = cur.fetchall()"
   ]
  },
  {
   "cell_type": "code",
   "execution_count": 39,
   "id": "ce9eabe8",
   "metadata": {},
   "outputs": [],
   "source": [
    "values = []\n",
    "for col in df_calendar:\n",
    "    values.extend([col[0].strftime('%m/%d/%Y'), total_aparts - col[1]])\n",
    "values_list = [values[i:i+2] for i in range(0, len(values), 2)]\n",
    "fvalues = tuple(tuple(x) for x in values_list)"
   ]
  },
  {
   "cell_type": "code",
   "execution_count": 38,
   "id": "15aeeb00",
   "metadata": {},
   "outputs": [],
   "source": [
    "for f in fvalues:\n",
    "    query = f\"INSERT INTO calendar VALUES {f}\"\n",
    "    cur.execute(query)\n",
    "    \n",
    "con.commit()\n",
    "con.close()"
   ]
  }
 ],
 "metadata": {
  "kernelspec": {
   "display_name": "Python 3",
   "language": "python",
   "name": "python3"
  },
  "language_info": {
   "codemirror_mode": {
    "name": "ipython",
    "version": 3
   },
   "file_extension": ".py",
   "mimetype": "text/x-python",
   "name": "python",
   "nbconvert_exporter": "python",
   "pygments_lexer": "ipython3",
   "version": "3.8.8"
  }
 },
 "nbformat": 4,
 "nbformat_minor": 5
}
